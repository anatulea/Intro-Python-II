{
 "cells": [
  {
   "cell_type": "code",
   "execution_count": 1,
   "metadata": {},
   "outputs": [],
   "source": [
    "# Write a class to hold player information, e.g. what room they are in\n",
    "# currently.\n",
    "current_room = 'outside'\n",
    "class Player:\n",
    "  \n",
    "    def __init__(self, name, current_room):\n",
    "        self.name = name\n",
    "        self.current_room = current_room\n",
    "    def __str__(self):\n",
    "        return f'Player name:{self.name}\\nCurrent room: {self.current_room}'\n"
   ]
  },
  {
   "cell_type": "code",
   "execution_count": 2,
   "metadata": {},
   "outputs": [],
   "source": [
    "player_one = Player('Ana', current_room )"
   ]
  },
  {
   "cell_type": "code",
   "execution_count": 3,
   "metadata": {},
   "outputs": [
    {
     "name": "stdout",
     "output_type": "stream",
     "text": [
      "Player name:Ana\n",
      "Current room: outside\n"
     ]
    }
   ],
   "source": [
    "print(player_one)"
   ]
  },
  {
   "cell_type": "code",
   "execution_count": 4,
   "metadata": {},
   "outputs": [],
   "source": [
    "# name = input('What is your name? ')"
   ]
  },
  {
   "cell_type": "code",
   "execution_count": 5,
   "metadata": {},
   "outputs": [],
   "source": [
    "#player_one = Player(name, 'bath')"
   ]
  },
  {
   "cell_type": "code",
   "execution_count": 6,
   "metadata": {},
   "outputs": [],
   "source": [
    "#print(player_one)"
   ]
  },
  {
   "cell_type": "code",
   "execution_count": 7,
   "metadata": {},
   "outputs": [],
   "source": [
    "# print(f'Welcome {name}! ')"
   ]
  },
  {
   "cell_type": "code",
   "execution_count": 8,
   "metadata": {},
   "outputs": [],
   "source": [
    "class Room:\n",
    "    def __init__(self, name, description):\n",
    "        self.name = name\n",
    "        self.description = description\n",
    "    def __str__(self):\n",
    "        return f'\\nRoom: {self.name}\\nDescription: {self.description}\\n'    "
   ]
  },
  {
   "cell_type": "code",
   "execution_count": 9,
   "metadata": {},
   "outputs": [],
   "source": [
    "first_room =   Room(\"Outside Cave Entrance\",  \"North of you, the cave mount beckons\")"
   ]
  },
  {
   "cell_type": "code",
   "execution_count": 10,
   "metadata": {},
   "outputs": [
    {
     "name": "stdout",
     "output_type": "stream",
     "text": [
      "Outside Cave Entrance\n",
      "North of you, the cave mount beckons\n"
     ]
    }
   ],
   "source": [
    "print(first_room.name)\n",
    "print(first_room.description)"
   ]
  },
  {
   "cell_type": "code",
   "execution_count": 11,
   "metadata": {},
   "outputs": [
    {
     "name": "stdout",
     "output_type": "stream",
     "text": [
      "Use the \"n\", \"s\", \"e\", \"w\", and \"q\" commands to navigate to North, South, East, West or Quit the game\n"
     ]
    }
   ],
   "source": [
    "# name = input('What is your name? ')\n",
    "def start_game():\n",
    "#     print(f'Welcome to the game {name}!')\n",
    "    print('Use the \"n\", \"s\", \"e\", \"w\", and \"q\" commands to navigate to North, South, East, West or Quit the game')\n",
    "start_game()\n",
    "    "
   ]
  },
  {
   "cell_type": "code",
   "execution_count": 12,
   "metadata": {},
   "outputs": [],
   "source": [
    "room = {\n",
    "    'outside':  Room(\"Outside Cave Entrance\",  \"North of you, the cave mount beckons\"),\n",
    "\n",
    "    'foyer':    Room(\"Foyer\", \"\"\"Dim light filters in from the south. Dusty\n",
    "passages run north and east.\"\"\"),\n",
    "\n",
    "    'overlook': Room(\"Grand Overlook\", \"\"\"A steep cliff appears before you, falling\n",
    "into the darkness. Ahead to the north, a light flickers in\n",
    "the distance, but there is no way across the chasm.\"\"\"),\n",
    "\n",
    "    'narrow':   Room(\"Narrow Passage\", \"\"\"The narrow passage bends here from west\n",
    "to north. The smell of gold permeates the air.\"\"\"),\n",
    "\n",
    "    'treasure': Room(\"Treasure Chamber\", \"\"\"You've found the long-lost treasure\n",
    "chamber! Sadly, it has already been completely emptied by\n",
    "earlier adventurers. The only exit is to the south.\"\"\"),\n",
    "}"
   ]
  },
  {
   "cell_type": "code",
   "execution_count": 13,
   "metadata": {},
   "outputs": [],
   "source": [
    "room['outside'].n_to = room['foyer']\n",
    "room['foyer'].s_to = room['outside']\n",
    "room['foyer'].n_to = room['overlook']\n",
    "room['foyer'].e_to = room['narrow']\n",
    "room['overlook'].s_to = room['foyer']\n",
    "room['narrow'].w_to = room['foyer']\n",
    "room['narrow'].n_to = room['treasure']\n",
    "room['treasure'].s_to = room['narrow']"
   ]
  },
  {
   "cell_type": "code",
   "execution_count": 14,
   "metadata": {},
   "outputs": [
    {
     "name": "stdout",
     "output_type": "stream",
     "text": [
      "\n",
      "Room: Outside Cave Entrance\n",
      "Description: North of you, the cave mount beckons\n",
      "\n",
      "\n",
      "Room: Foyer\n",
      "Description: Dim light filters in from the south. Dusty\n",
      "passages run north and east.\n",
      "\n",
      "\n",
      "Room: Narrow Passage\n",
      "Description: The narrow passage bends here from west\n",
      "to north. The smell of gold permeates the air.\n",
      "\n"
     ]
    }
   ],
   "source": [
    "print(room['foyer'].s_to)\n",
    "print(room['outside'].n_to)\n",
    "print(room['narrow'])"
   ]
  },
  {
   "cell_type": "code",
   "execution_count": 34,
   "metadata": {},
   "outputs": [
    {
     "name": "stdout",
     "output_type": "stream",
     "text": [
      "What is your name? Ana\n",
      "Welcome to the game Ana!\n",
      "\n",
      "Room: Outside Cave Entrance\n",
      "Description : North of you, the cave mount beckons\n",
      "\n",
      "Where do you go next? Use \"n\", \"s\", \"e\", \"w\", or \"q\"(quit) to navigate the rooms: n\n",
      "\n",
      "Room: Foyer\n",
      "Description : Dim light filters in from the south. Dusty\n",
      "passages run north and east.\n",
      "\n",
      "Where do you go next? Use \"n\", \"s\", \"e\", \"w\", or \"q\"(quit) to navigate the rooms: s\n",
      "\n",
      "Room: Outside Cave Entrance\n",
      "Description : North of you, the cave mount beckons\n",
      "\n",
      "Where do you go next? Use \"n\", \"s\", \"e\", \"w\", or \"q\"(quit) to navigate the rooms: q\n",
      "Thank you for playing!\n"
     ]
    }
   ],
   "source": [
    "name = input('What is your name? ')\n",
    "def start_game(name):\n",
    "    print(f'Welcome to the game {name}!')\n",
    "#     print('Use the \"n\", \"s\", \"e\", \"w\", and \"q\" commands to navigate to North, South, East, West or Quit the game')\n",
    "start_game(name)\n",
    "    \n",
    "player_one = Player(name, room['outside'])\n",
    "# print(f' player one room: {player_one.current_room.name}')\n",
    "# print(f' player one room description : {player_one.current_room.description}')\n",
    "playing = True\n",
    "while playing:\n",
    "    print(f'\\nRoom: {player_one.current_room.name}')\n",
    "    print(f'Description : {player_one.current_room.description}\\n')\n",
    "    selection = input('Where do you go next? Use \"n\", \"s\", \"e\", \"w\", or \"q\"(quit) to navigate the rooms: ')\n",
    "    if selection[0].lower() == 'e':\n",
    "        try:\n",
    "            player_one.current_room = player_one.current_room.e_to\n",
    "        except:\n",
    "            print('There is no room to the East')\n",
    "    elif selection[0].lower() == 'n':\n",
    "        try:\n",
    "            player_one.current_room = player_one.current_room.n_to\n",
    "        except:\n",
    "            print('There is no room to the North')\n",
    "    elif selection[0].lower() == 'w':  \n",
    "        try:\n",
    "            player_one.current_room = player_one.current_room.w_to\n",
    "        except:\n",
    "            print('There is no room to the West')\n",
    "    elif selection[0].lower() == 's':\n",
    "        try:\n",
    "            player_one.current_room = player_one.current_room.s_to\n",
    "        except:\n",
    "            print('There is no room to the South')\n",
    "    elif selection[0].lower() == 'q':\n",
    "        playing = False\n",
    "        print('Thank you for playing!')\n",
    "        break\n",
    "    else:\n",
    "        print('\\nPlease enter a valid command!')     \n",
    "\n",
    "# Ask to play again\n",
    "# new_game = input(\"Would you like to play again? Enter 'y' or 'n' \")\n",
    "\n",
    "# if new_game[0].lower()=='y':\n",
    "#     playing = True\n",
    "\n",
    "# else:\n",
    "#     print(\"Thanks for playing!\")\n",
    "#     playing = False\n"
   ]
  },
  {
   "cell_type": "code",
   "execution_count": null,
   "metadata": {},
   "outputs": [],
   "source": []
  },
  {
   "cell_type": "code",
   "execution_count": null,
   "metadata": {},
   "outputs": [],
   "source": []
  },
  {
   "cell_type": "code",
   "execution_count": null,
   "metadata": {},
   "outputs": [],
   "source": []
  }
 ],
 "metadata": {
  "kernelspec": {
   "display_name": "Python 3",
   "language": "python",
   "name": "python3"
  },
  "language_info": {
   "codemirror_mode": {
    "name": "ipython",
    "version": 3
   },
   "file_extension": ".py",
   "mimetype": "text/x-python",
   "name": "python",
   "nbconvert_exporter": "python",
   "pygments_lexer": "ipython3",
   "version": "3.8.3"
  }
 },
 "nbformat": 4,
 "nbformat_minor": 4
}
